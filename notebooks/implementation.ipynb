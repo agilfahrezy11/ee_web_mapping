{
  "cells": [
    {
      "cell_type": "code",
      "execution_count": 6,
      "id": "abeb894d",
      "metadata": {
        "id": "abeb894d",
        "outputId": "65175336-359f-47e0-ff00-cf9bd881482b",
        "colab": {
          "base_uri": "https://localhost:8080/"
        }
      },
      "outputs": [
        {
          "output_type": "stream",
          "name": "stdout",
          "text": [
            "Drive already mounted at /content/drive; to attempt to forcibly remount, call drive.mount(\"/content/drive\", force_remount=True).\n"
          ]
        }
      ],
      "source": [
        "from google.colab import drive\n",
        "drive.mount('/content/drive')"
      ]
    },
    {
      "cell_type": "code",
      "source": [
        "%%bash\n",
        "cd /content/drive/MyDrive/\n",
        "mkdir -p /content/drive/MyDrive/Colab Notebooks\n",
        "cd epistem\n",
        "git clone https://github.com/agilfahrezy11/ee_web_mapping.git"
      ],
      "metadata": {
        "id": "Ec7liISE0o1k",
        "outputId": "b8927a3b-aa4c-498e-9f39-6af006dfdd45",
        "colab": {
          "base_uri": "https://localhost:8080/"
        }
      },
      "id": "Ec7liISE0o1k",
      "execution_count": 7,
      "outputs": [
        {
          "output_type": "stream",
          "name": "stderr",
          "text": [
            "bash: line 3: cd: epistem: No such file or directory\n",
            "Cloning into 'ee_web_mapping'...\n"
          ]
        }
      ]
    }
  ],
  "metadata": {
    "language_info": {
      "name": "python"
    },
    "colab": {
      "provenance": []
    },
    "kernelspec": {
      "name": "python3",
      "display_name": "Python 3"
    }
  },
  "nbformat": 4,
  "nbformat_minor": 5
}